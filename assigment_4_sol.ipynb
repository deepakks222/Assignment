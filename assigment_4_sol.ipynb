{
 "cells": [
  {
   "cell_type": "code",
   "execution_count": null,
   "id": "79d64f42",
   "metadata": {},
   "outputs": [],
   "source": [
    "# 1. What exactly is []?\n",
    "\n",
    "# Ans) The empty list value, which is a list value that contains no items.\n"
   ]
  },
  {
   "cell_type": "code",
   "execution_count": 2,
   "id": "95307e0e",
   "metadata": {},
   "outputs": [
    {
     "data": {
      "text/plain": [
       "[2, 4, 'hello', 8, 10]"
      ]
     },
     "execution_count": 2,
     "metadata": {},
     "output_type": "execute_result"
    }
   ],
   "source": [
    "# 2. In a list of values stored in a variable called spam, how would you assign the value 'hello' as \n",
    "# the third value? (Assume [2, 4, 6, 8, 10] are in spam.)\n",
    "\n",
    "# Ans) \n",
    "\n",
    "spam = [2, 4, 6, 8, 10]\n",
    "spam[2] = 'hello' \n",
    "spam\n"
   ]
  },
  {
   "cell_type": "code",
   "execution_count": 5,
   "id": "793ef290",
   "metadata": {},
   "outputs": [
    {
     "name": "stdout",
     "output_type": "stream",
     "text": [
      "8\n"
     ]
    }
   ],
   "source": [
    "# 3. What is the value of spam[int(int('3' * 2) / 11)]?\n",
    "\n",
    "# Ans) \n",
    "\n",
    "print(spam[int(int('3' * 2) / 11)])"
   ]
  },
  {
   "cell_type": "code",
   "execution_count": 6,
   "id": "eaf9b66d",
   "metadata": {},
   "outputs": [],
   "source": [
    "# 4. What is the value of spam[-1]?\n",
    "\n",
    "# Ans) it will return the last element of spam list."
   ]
  },
  {
   "cell_type": "code",
   "execution_count": 8,
   "id": "bc96570e",
   "metadata": {},
   "outputs": [
    {
     "data": {
      "text/plain": [
       "[2, 4]"
      ]
     },
     "execution_count": 8,
     "metadata": {},
     "output_type": "execute_result"
    }
   ],
   "source": [
    "# 5. What is the value of spam[:2]?\n",
    "\n",
    "# Ans) \n",
    "spam = [2, 4, 6, 8, 10]\n",
    "spam[:2]"
   ]
  },
  {
   "cell_type": "code",
   "execution_count": 16,
   "id": "46d88536",
   "metadata": {},
   "outputs": [
    {
     "data": {
      "text/plain": [
       "1"
      ]
     },
     "execution_count": 16,
     "metadata": {},
     "output_type": "execute_result"
    }
   ],
   "source": [
    "# 6. What is the value of bacon.index('cat')?\n",
    "\n",
    "# Ans)\n",
    "\n",
    "li=[3.14,'cat',11,'cat',True]\n",
    "li\n",
    "li.index('cat')"
   ]
  },
  {
   "cell_type": "code",
   "execution_count": 20,
   "id": "148af3e5",
   "metadata": {},
   "outputs": [
    {
     "name": "stdout",
     "output_type": "stream",
     "text": [
      "[3.14, 'cat', 11, 'cat', True]\n"
     ]
    },
    {
     "data": {
      "text/plain": [
       "[3.14, 'cat', 11, 'cat', True, 99]"
      ]
     },
     "execution_count": 20,
     "metadata": {},
     "output_type": "execute_result"
    }
   ],
   "source": [
    "# 7. How does bacon.append(99) change the look of the list value in bacon?\n",
    "\n",
    "# Ans)\n",
    "\n",
    "li=[3.14,'cat',11,'cat',True]\n",
    "print(li)\n",
    "li.append(99)\n",
    "li"
   ]
  },
  {
   "cell_type": "code",
   "execution_count": 22,
   "id": "9a717dd0",
   "metadata": {},
   "outputs": [
    {
     "name": "stdout",
     "output_type": "stream",
     "text": [
      "[3.14, 'cat', 11, 'cat', True]\n",
      "[3.14, 11, 'cat', True]\n"
     ]
    }
   ],
   "source": [
    "# 8. How does bacon.remove('cat') change the look of the list in bacon?\n",
    "\n",
    "# Ans)\n",
    "\n",
    "li=[3.14,'cat',11,'cat',True]\n",
    "print(li)\n",
    "li.remove('cat')\n",
    "print(li)"
   ]
  },
  {
   "cell_type": "code",
   "execution_count": 23,
   "id": "7e05b4eb",
   "metadata": {},
   "outputs": [],
   "source": [
    "# 9. What are the list concatenation and list replication operators?\n",
    "\n",
    "# Ans) The operator for list concatenation is +, while the operator for replication is *.\n"
   ]
  },
  {
   "cell_type": "code",
   "execution_count": 24,
   "id": "a5a19693",
   "metadata": {},
   "outputs": [],
   "source": [
    "# 10. What is difference between the list methods append() and insert()?\n",
    "\n",
    "# Ans) While append() will add values only to the end of a list, insert() can add them anywhere in the list.\n"
   ]
  },
  {
   "cell_type": "code",
   "execution_count": 25,
   "id": "99cd8139",
   "metadata": {},
   "outputs": [],
   "source": [
    "# 11. What are the two methods for removing items from a list?\n",
    "    \n",
    "# Ans) The del statement and the remove() list method are two ways to remove values from a list.\n"
   ]
  },
  {
   "cell_type": "code",
   "execution_count": 26,
   "id": "8a62ffc6",
   "metadata": {},
   "outputs": [],
   "source": [
    "# 12. Describe how list values and string values are identical.\n",
    "\n",
    "# Ans) Both lists and strings can be passed to len(), have indexes and slices, be used in for loops, \n",
    "# be concatenated or replicated, and be used with the in and not in operators."
   ]
  },
  {
   "cell_type": "code",
   "execution_count": 27,
   "id": "979b13e6",
   "metadata": {},
   "outputs": [],
   "source": [
    "# 13. What's the difference between tuples and lists?\n",
    "\n",
    "# Ans) Lists are mutable; they can have values added, removed, or changed. Tuples are immutable; \n",
    "# they cannot be changed at all. Also, tuples are written using parentheses, ( and ),\n",
    "# while lists use the square brackets, [ and ].\n"
   ]
  },
  {
   "cell_type": "code",
   "execution_count": 28,
   "id": "d2ec9508",
   "metadata": {},
   "outputs": [],
   "source": [
    "# 14. How do you type a tuple value that only contains the integer 42?\n",
    "\n",
    "# Ans)  (42)\n"
   ]
  },
  {
   "cell_type": "code",
   "execution_count": 29,
   "id": "f5ef44fd",
   "metadata": {},
   "outputs": [],
   "source": [
    "# 15. How do you get a list value's tuple form? How do you get a tuple value's list form?\n",
    "\n",
    "# Ans) The tuple() and list() functions, respectively\n"
   ]
  },
  {
   "cell_type": "code",
   "execution_count": 30,
   "id": "953d39f0",
   "metadata": {},
   "outputs": [],
   "source": [
    "# 16. Variables that \"contain\" list values are not necessarily lists themselves. Instead, what do they contain?\n",
    "\n",
    "# Ans) They contain references to list values.\n"
   ]
  },
  {
   "cell_type": "code",
   "execution_count": null,
   "id": "9f2019c5",
   "metadata": {},
   "outputs": [],
   "source": [
    "# 17. How do you distinguish between copy.copy() and copy.deepcopy()?\n",
    "\n",
    "# Ans) The copy.copy() function will do a shallow copy of a list, while the copy.deepcopy() function will \n",
    "# do a deep copy of a list. That is, only copy.deepcopy() will duplicate any lists inside the list.\n",
    "\n"
   ]
  }
 ],
 "metadata": {
  "kernelspec": {
   "display_name": "Python 3 (ipykernel)",
   "language": "python",
   "name": "python3"
  },
  "language_info": {
   "codemirror_mode": {
    "name": "ipython",
    "version": 3
   },
   "file_extension": ".py",
   "mimetype": "text/x-python",
   "name": "python",
   "nbconvert_exporter": "python",
   "pygments_lexer": "ipython3",
   "version": "3.8.17"
  }
 },
 "nbformat": 4,
 "nbformat_minor": 5
}
