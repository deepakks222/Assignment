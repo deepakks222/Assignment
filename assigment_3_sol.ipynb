{
 "cells": [
  {
   "cell_type": "code",
   "execution_count": null,
   "id": "79d64f42",
   "metadata": {},
   "outputs": [],
   "source": [
    "# 1. Why are functions advantageous to have in your programs?\n",
    "\n",
    "# Ans) Some of the key benefits of using functions are:\n",
    "\n",
    "#     ->Enables reusability and reduces redundancy.\n",
    "#     ->Makes a code modular.\n",
    "#     ->Provides abstraction functionality.\n",
    "#     ->The program becomes easy to understand and manage.\n",
    "#     ->Breaks an extensive program into smaller and simpler pieces."
   ]
  },
  {
   "cell_type": "code",
   "execution_count": null,
   "id": "094c7d04",
   "metadata": {},
   "outputs": [],
   "source": [
    "# 2. When does the code in a function run: when it's specified or when it's called?\n",
    "\n",
    "# Ans) function is executed when ever it is called ."
   ]
  },
  {
   "cell_type": "code",
   "execution_count": null,
   "id": "098a29da",
   "metadata": {},
   "outputs": [],
   "source": [
    "# 3. What statement creates a function?\n",
    "\n",
    "# Ans) In Python, you define a function with the def keyword, then write the function identifier (name) \n",
    "# followed by parentheses and a colon. The next thing you have to do is make sure you indent with \n",
    "# a tab or 4 spaces, and then specify what you want the function to do for you.\n",
    "\n"
   ]
  },
  {
   "cell_type": "code",
   "execution_count": null,
   "id": "cdc15768",
   "metadata": {},
   "outputs": [],
   "source": [
    "# 4. What is the difference between a function and a function call?\n",
    "\n",
    "# Ans) A function is a block of code that performs a specific task, while a function call is an expression \n",
    "# that invokes a function and executes the code in the function.\n",
    "\n"
   ]
  },
  {
   "cell_type": "code",
   "execution_count": null,
   "id": "1d75723e",
   "metadata": {},
   "outputs": [],
   "source": [
    "# 5. How many global scopes are there in a Python program? How many local scopes?\n",
    "\n",
    "# Ans)  There's only one global Python scope per program execution. This scope remains in existence \n",
    "# until the program terminates and all its names are forgotten. Otherwise, the next time you were to \n",
    "# run the program, the names would remember their values from the previous run.\n",
    "\n",
    "# Python Global variables are those which are not defined inside any function and have a global\n",
    "# scope whereas Python local variables are those which are defined inside a function and their scope \n",
    "# is limited to that function only."
   ]
  },
  {
   "cell_type": "code",
   "execution_count": null,
   "id": "48d2034f",
   "metadata": {},
   "outputs": [],
   "source": [
    "# 6. What happens to variables in a local scope when the function call returns?\n",
    "\n",
    "# Ans) When the execution of the function terminates (returns), the local variables are destroyed."
   ]
  },
  {
   "cell_type": "code",
   "execution_count": null,
   "id": "c5787ed8",
   "metadata": {},
   "outputs": [],
   "source": [
    "7. What is the concept of a return value? Is it possible to have a return value in an expression?\n",
    "\n",
    "Ans) A return is a value that a function returns to the calling script or function when it completes its \n",
    "task. A return value can be any one of the four variable types: handle, integer, object, or string.\n",
    "\n",
    "A Python function will always have a return value. There is no notion of procedure or routine in Python. \n",
    "So, if you don't explicitly use a return value in a return statement, or if you totally omit the return \n",
    "statement, then Python will implicitly return a default value for you.\n"
   ]
  },
  {
   "cell_type": "code",
   "execution_count": null,
   "id": "eab78344",
   "metadata": {},
   "outputs": [],
   "source": [
    "# 8. If a function does not have a return statement, what is the return value of a call to that function?\n",
    "\n",
    "# Ans) If the function doesn't have any return statement, then it returns None ."
   ]
  },
  {
   "cell_type": "code",
   "execution_count": null,
   "id": "2a18d0c8",
   "metadata": {},
   "outputs": [],
   "source": [
    "# 9. How do you make a function variable refer to the global variable?\n",
    "\n",
    "# Ans) Normally, when you create a variable inside a function, that variable is local, and can only be used \n",
    "# inside that function. To create a global variable inside a function, you can use the global keyword."
   ]
  },
  {
   "cell_type": "code",
   "execution_count": 8,
   "id": "a8b26ae0",
   "metadata": {},
   "outputs": [
    {
     "name": "stdout",
     "output_type": "stream",
     "text": [
      "<class 'NoneType'>\n"
     ]
    }
   ],
   "source": [
    "# # 10. What is the data type of None?\n",
    "print(type(None))\n",
    "\n",
    "# Ans) None is used to define a null value or Null object in Python. It is not the same as an empty string, \n",
    "# a False, or a zero. It is a data type of the class NoneType object."
   ]
  },
  {
   "cell_type": "code",
   "execution_count": 9,
   "id": "1bbd24f3",
   "metadata": {},
   "outputs": [],
   "source": [
    "# 11. What does the sentence import areallyourpetsnamederic do?\n",
    "\n",
    "# Ans) Its imports a module named areallyourpetsnamederic. "
   ]
  },
  {
   "cell_type": "code",
   "execution_count": 10,
   "id": "6b7bdba9",
   "metadata": {},
   "outputs": [],
   "source": [
    "# 12. If you had a bacon() feature in a spam module, what would you call it after importing spam?\n",
    "\n",
    "# Ans)  This function can be called with spam.bacon().\n"
   ]
  },
  {
   "cell_type": "code",
   "execution_count": 12,
   "id": "809340af",
   "metadata": {},
   "outputs": [],
   "source": [
    "# 13. What can you do to save a programme from crashing if it encounters an error?\n",
    "\n",
    "# Ans) Place the line of code that might cause an error in a try clause.\n"
   ]
  },
  {
   "cell_type": "code",
   "execution_count": null,
   "id": "2c8279e4",
   "metadata": {},
   "outputs": [],
   "source": [
    "# 14. What is the purpose of the try clause? What is the purpose of the except clause?\n",
    "\n",
    "# Ans) The code that could potentially cause an error goes in the try clause.\n",
    "#      The code that executes if an error happens goes in the except clause."
   ]
  }
 ],
 "metadata": {
  "kernelspec": {
   "display_name": "Python 3 (ipykernel)",
   "language": "python",
   "name": "python3"
  },
  "language_info": {
   "codemirror_mode": {
    "name": "ipython",
    "version": 3
   },
   "file_extension": ".py",
   "mimetype": "text/x-python",
   "name": "python",
   "nbconvert_exporter": "python",
   "pygments_lexer": "ipython3",
   "version": "3.8.17"
  }
 },
 "nbformat": 4,
 "nbformat_minor": 5
}
