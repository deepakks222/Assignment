{
 "cells": [
  {
   "cell_type": "code",
   "execution_count": 3,
   "metadata": {},
   "outputs": [],
   "source": [
    "# 1. What is the role of try and exception block?\n",
    "\n",
    "\n",
    "# A Python program terminates as soon as it encounters an error. In Python, an error can be a syntax error \n",
    "# or an exception. In this article, you will see what an exception is and how it differs from a syntax \n",
    "# error. After that, you will learn about raising exceptions and making assertions. Then, you’ll finish\n",
    "# with a demonstration of the try and except block.\n",
    "\n",
    "# Syntax errors occur when the parser detects an incorrect statement. \n",
    "# Observe the following example:\n",
    "\n",
    "# print( 0 / 0 ))\n",
    "\n",
    "#   Cell In[1], line 12\n",
    "#     print( 0 / 0 ))\n",
    "#                   ^\n",
    "# SyntaxError: unmatched ')'\n",
    "\n",
    "\n",
    "# exception error\n",
    "# print( 0 / 0)\n",
    "# Traceback (most recent call last):\n",
    "#   File \"<stdin>\", line 1, in <module>\n",
    "# ZeroDivisionError: integer division or modulo by zero\n",
    "\n",
    "# his time, you ran into an exception error. This type of error occurs whenever syntactically correct \n",
    "# Python code results in an error. The last line of the message indicated what type of exception error \n",
    "# you ran into."
   ]
  },
  {
   "cell_type": "code",
   "execution_count": 5,
   "metadata": {},
   "outputs": [
    {
     "name": "stdout",
     "output_type": "stream",
     "text": [
      "Linux function was not executed\n"
     ]
    }
   ],
   "source": [
    "# 2. What is the syntax for a basic try-except block?\n",
    "\n",
    "# Ans 2)\n",
    "\n",
    "def linux_interaction():\n",
    "    assert ('linux' in sys.platform), \"Function can only run on Linux systems.\"\n",
    "    print('Doing something.')\n",
    "\n",
    "try:\n",
    "    linux_interaction()\n",
    "except:\n",
    "    print('Linux function was not executed')\n"
   ]
  },
  {
   "cell_type": "code",
   "execution_count": 13,
   "metadata": {},
   "outputs": [],
   "source": [
    "# 3. What happens if an exception occurs inside a try block and there is no matching\n",
    "# except block?\n",
    "\n",
    "# Ans 3) \n",
    "# If an exception occurs which does not match the exception named in the except clause, it is passed on to \n",
    "# outer try statements, if no handler is found, it is an unlanded exception and execution stops .\n"
   ]
  },
  {
   "cell_type": "code",
   "execution_count": 20,
   "metadata": {},
   "outputs": [
    {
     "name": "stdout",
     "output_type": "stream",
     "text": [
      "An error has been raised and cought by except only\n",
      "An error has been raised and generating error: division by zero\n"
     ]
    }
   ],
   "source": [
    "# 4. What is the difference between using a bare except block and specifying a specific\n",
    "# exception type?\n",
    "\n",
    "\n",
    "a=5\n",
    "b=0\n",
    "try:\n",
    "    x=a/b\n",
    "except:\n",
    "    print(\"An error has been raised and cought by except only\")\n",
    "\n",
    "\n",
    "try:\n",
    "    x=a/b\n",
    "except Exception as e:\n",
    "    print(\"An error has been raised and generating error:\",e)\n"
   ]
  },
  {
   "cell_type": "code",
   "execution_count": 21,
   "metadata": {},
   "outputs": [
    {
     "name": "stdout",
     "output_type": "stream",
     "text": [
      "outer try block\n",
      "nested try block\n",
      "outer except block\n",
      "division by zero\n"
     ]
    }
   ],
   "source": [
    "# 5. Can you have nested try-except blocks in Python? If yes, then give an example.\n",
    "\n",
    "x=10\n",
    "y=0\n",
    "\n",
    "try:\n",
    "    print(\"outer try block\")\n",
    "\n",
    "    try:\n",
    "        print(\"nested try block\")\n",
    "        print(x/y)\n",
    "    except TypeError as te:\n",
    "        print(\"nested except block\")\n",
    "        print(te)\n",
    "except ZeroDivisionError as ze:\n",
    "    print(\"outer except block\")\n",
    "    print(ze)\n",
    "\n"
   ]
  },
  {
   "cell_type": "code",
   "execution_count": 25,
   "metadata": {},
   "outputs": [
    {
     "name": "stdout",
     "output_type": "stream",
     "text": [
      "Something went wrong\n"
     ]
    }
   ],
   "source": [
    "# 6. Can we use multiple exception blocks, if yes then give an example.\n",
    "\n",
    "# Ans) yes we can use multiple excption block is as follows:\n",
    "\n",
    "try:\n",
    "    print('1'+1)\n",
    "    print(sum)\n",
    "    print(1/0)\n",
    "except NameError:\n",
    "    print(\"sum does not exist\")\n",
    "except ZeroDivisionError:\n",
    "    print(\"Cannot divide by 0\")\n",
    "except:\n",
    "    print(\"Something went wrong\")"
   ]
  },
  {
   "cell_type": "code",
   "execution_count": 26,
   "metadata": {},
   "outputs": [],
   "source": [
    "# 7. Write the reason due to which following errors are raised:\n",
    "# a. EOFError\n",
    "# b. FloatingPointError\n",
    "# c. IndexError\n",
    "# d. MemoryError\n",
    "# e. OverflowError\n",
    "# f. TabError\n",
    "# g. ValueError\n",
    "\n",
    "# Ans )\n",
    "# a. EOFError:-\n",
    "# It is raised when one of the built-in functions input() or raw_input() hits an \n",
    "# end-of-file condition (EOF) without reading any data. This error is sometimes experienced while using \n",
    "# online IDEs. This occurs when we have asked the user for input but have not provided any input in the \n",
    "# input box. We can overcome this issue by using try and except keywords in Python. \n",
    "\n",
    "# b. FloatingPointError :- \n",
    "# As with most programming languages, the FloatingPointError in Python \n",
    "# indicates that something has gone wrong with a floating point calculation. However, unlike most \n",
    "# other languages, Python will not raise a FloatingPointError by default. The ability to do so must be \n",
    "# implemented by including the fpectl module when building your local Python environment.\n",
    "\n",
    "# c. IndexError :-\n",
    "# This error occurs when an attempt is made to access an item in a list at an index \n",
    "# which is out of bounds. The range of a list in Python is [0, n-1], where n is the number of elements in \n",
    "# the list.\n",
    "\n",
    "# d. MemoryError :-\n",
    "# A MemoryError means that the interpreter has run out of memory to allocate to your \n",
    "# Python program. This may be due to an issue in the setup of the Python environment or it may be a \n",
    "# concern with the code itself loading too much data at the same time.\n",
    "\n",
    "# e. OverflowError :-\n",
    "# It is an error that occurs when a calculation exceeds the maximum limit of a data type. \n",
    "# In this part, we want to look at the example. For example, if you attempt to calculate the exponential of \n",
    "# 1000, it will result in an OverflowError.\n",
    "\n",
    "# f. TabError :- \n",
    "# It occurs when we mix tabs and spaces in the same code block. To solve the error, remove the \n",
    "# spacing and only use tabs or spaces, but don't mix the two in the same code block.\n",
    "\n",
    "# g. ValueError :-\n",
    "# It occurs when a correct argument type but an incorrect value is supplied to a function. \n",
    "# This type of inaccuracy is most common in mathematical operations. A TypeError, as opposed to a \n",
    "# ValueError, is raised when an operation is performed that is using an incorrect or unsupported object \n",
    "# type.\n"
   ]
  },
  {
   "cell_type": "code",
   "execution_count": 16,
   "metadata": {},
   "outputs": [
    {
     "name": "stdout",
     "output_type": "stream",
     "text": [
      "program of a) divide two numbers\n",
      "Division by Zero!\n",
      "\n",
      "\n",
      "program of b) convert a string to an integer \n",
      "number format excption\n",
      "\n",
      "\n",
      "program of c) access an element in a list \n",
      "index of list error\n",
      "\n",
      "\n",
      "program of d) handle a specific exception \n",
      "index is not present in the list error error\n",
      "\n",
      "\n",
      "program of e) handle any exception \n",
      "i m in exception\n"
     ]
    }
   ],
   "source": [
    "# 8. Write code for the following given scenario and add try-exception block to it.\n",
    "# a. Program to divide two numbers\n",
    "# b. Program to convert a string to an integer\n",
    "# c. Program to access an element in a list\n",
    "# d. Program to handle a specific exception\n",
    "# e. Program to handle any exception\n",
    "\n",
    "# Ans 8)\n",
    "\n",
    "# a)\n",
    "print(\"program of a) divide two numbers\")\n",
    "a=10\n",
    "b=0\n",
    "try:\n",
    "    q=a/b\n",
    "    print(\"Quotient:\",q)\n",
    "except ZeroDivisionError:\n",
    "    print(\"Division by Zero!\")\n",
    "\n",
    "\n",
    "# b)\n",
    "print(\"\\n\\nprogram of b) convert a string to an integer \")\n",
    "a=\"100o\"\n",
    "try:\n",
    "    b=int(a)\n",
    "    print(\"value of b is :\",b)\n",
    "except ValueError:\n",
    "    print(\"number format excption\")\n",
    "except :\n",
    "    print(\"i m in exception\")\n",
    "\n",
    "\n",
    "\n",
    "# c)\n",
    "print(\"\\n\\nprogram of c) access an element in a list \")\n",
    "\n",
    "li=[1,2,3,4]\n",
    "\n",
    "try:    \n",
    "    print(li[10])\n",
    "except IndexError:\n",
    "    print(\"index of list error\")\n",
    "except :\n",
    "    print(\"i m in exception\")\n",
    "\n",
    "\n",
    "# d)\n",
    "print(\"\\n\\nprogram of d) handle a specific exception \")\n",
    "\n",
    "li=[1,2,3,4]\n",
    "\n",
    "try:    \n",
    "    print(li[10])\n",
    "except IndexError:\n",
    "    print(\"index is not present in the list error error\")\n",
    "\n",
    "\n",
    "\n",
    "# e)\n",
    "print(\"\\n\\nprogram of e) handle any exception \")\n",
    "\n",
    "li=[1,2,3,4]\n",
    "\n",
    "try:    \n",
    "    print(li[10])\n",
    "\n",
    "except :\n",
    "    print(\"i can handle any exception\")"
   ]
  }
 ],
 "metadata": {
  "kernelspec": {
   "display_name": "Python 3",
   "language": "python",
   "name": "python3"
  },
  "language_info": {
   "codemirror_mode": {
    "name": "ipython",
    "version": 3
   },
   "file_extension": ".py",
   "mimetype": "text/x-python",
   "name": "python",
   "nbconvert_exporter": "python",
   "pygments_lexer": "ipython3",
   "version": "3.8.17"
  },
  "orig_nbformat": 4
 },
 "nbformat": 4,
 "nbformat_minor": 2
}
