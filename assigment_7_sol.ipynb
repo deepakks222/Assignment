{
 "cells": [
  {
   "cell_type": "code",
   "execution_count": 15,
   "id": "79d64f42",
   "metadata": {},
   "outputs": [
    {
     "name": "stdout",
     "output_type": "stream",
     "text": [
      "First variable is  30  & second variable is :  15\n",
      "Addition:  30  +  15  =  45\n",
      "Subtraction:  30  -  15  =  15\n",
      "Multiplication:  30  *  15  =  450\n",
      "Division:  30  /  15  =  2.0\n"
     ]
    }
   ],
   "source": [
    "# Q.1. Create two int type variables, apply addition, subtraction, division and multiplications\n",
    "# and store the results in variables. Then print the data in the following format by calling the\n",
    "# variables:\n",
    "# First variable is __ & second variable is __.\n",
    "# Addition: __ + __ = __\n",
    "# Subtraction: __ - __ = __\n",
    "# Multiplication: __ * __ = __\n",
    "# Division: __ / __ = __\n",
    "\n",
    "# Ans 1)\n",
    "a=30\n",
    "b=15\n",
    "\n",
    "print(\"First variable is \",a,\" & second variable is : \",b)\n",
    "\n",
    "result=a+b\n",
    "print(\"Addition: \",a,\" + \",b,\" = \",result)\n",
    "\n",
    "result=a-b\n",
    "print(\"Subtraction: \",a,\" - \",b,\" = \",result)\n",
    "\n",
    "result=a*b\n",
    "print(\"Multiplication: \",a,\" * \",b,\" = \",result)\n",
    "\n",
    "result=a/b\n",
    "print(\"Division: \",a,\" / \",b,\" = \",result)"
   ]
  },
  {
   "cell_type": "code",
   "execution_count": 25,
   "id": "e2173f6e",
   "metadata": {},
   "outputs": [
    {
     "name": "stdout",
     "output_type": "stream",
     "text": [
      "Division:  3.5\n",
      "Floor Division:  3\n",
      "Power:  49\n",
      "xor operation: 5\n"
     ]
    }
   ],
   "source": [
    "# Q.2. What is the difference between the following operators:\n",
    "# (i)\n",
    "# ‘/’ & ‘//’\n",
    "# (ii)\n",
    "# ‘**’ & ‘^’\n",
    "\n",
    "# Ans 2)\n",
    "a = 7\n",
    "b = 2\n",
    "\n",
    "# i)\n",
    "print ('Division: ', a / b)  # it is a division opetator\n",
    "\n",
    "print ('Floor Division: ', a // b) # it will divide and the result will be rounded to its lowest integer value\n",
    "\n",
    "# ii)\n",
    "print ('Power: ', a ** b)   # it is a power of operator\n",
    "\n",
    "print(\"xor operation:\",a^b)  # it is used to persorm xor opearation bitwise\n"
   ]
  },
  {
   "cell_type": "code",
   "execution_count": 27,
   "id": "4c9cffcd",
   "metadata": {},
   "outputs": [
    {
     "name": "stdout",
     "output_type": "stream",
     "text": [
      "The numbers are greater than 0\n",
      "Atleast one number is not greater than 0\n",
      "Either of the number is greater than 0\n",
      "No number is greater than 0\n",
      "10 is divisible by either 3 or 5\n"
     ]
    }
   ],
   "source": [
    "# Q.3. List the logical operators.\n",
    "\n",
    "# Ans 3)\n",
    "\n",
    "# In Python, Logical operators are used on conditional statements (either True or False). \n",
    "# They perform :\n",
    "#     Logical AND, \n",
    "#     Logical OR and \n",
    "#     Logical NOT operations.\n",
    "\n",
    "\n",
    "\n",
    "# Python program to demonstrate  logical and operator \n",
    "  \n",
    "a = 10\n",
    "b = 10\n",
    "c = -10\n",
    "  \n",
    "if a > 0 and b > 0: \n",
    "    print(\"The numbers are greater than 0\") \n",
    "  \n",
    "if a > 0 and b > 0 and c > 0: \n",
    "    print(\"The numbers are greater than 0\") \n",
    "else: \n",
    "    print(\"Atleast one number is not greater than 0\") \n",
    "\n",
    "\n",
    "# Python program to demonstrate   logical or operator \n",
    "  \n",
    "a = 10\n",
    "b = -10\n",
    "c = 0\n",
    "  \n",
    "if a > 0 or b > 0: \n",
    "    print(\"Either of the number is greater than 0\") \n",
    "else: \n",
    "    print(\"No number is greater than 0\") \n",
    "  \n",
    "if b > 0 or c > 0: \n",
    "    print(\"Either of the number is greater than 0\") \n",
    "else: \n",
    "    print(\"No number is greater than 0\") \n",
    "\n",
    "\n",
    "# Python program to demonstrate  logical not operator \n",
    "  \n",
    "a = 10\n",
    "  \n",
    "if not a: \n",
    "    print(\"Boolean value of a is True\") \n",
    "  \n",
    "if not (a%3 == 0 or a%5 == 0): \n",
    "    print(\"10 is not divisible by either 3 or 5\") \n",
    "else: \n",
    "    print(\"10 is divisible by either 3 or 5\") "
   ]
  },
  {
   "cell_type": "code",
   "execution_count": 29,
   "id": "0eae01d3",
   "metadata": {},
   "outputs": [
    {
     "name": "stdout",
     "output_type": "stream",
     "text": [
      "a >> 1 = 5\n",
      "b >> 1 = -5\n",
      "a << 1 = 10\n",
      "b << 1 = -20\n"
     ]
    }
   ],
   "source": [
    "# Q.4. Explain right shift operator and left shift operator with examples.\n",
    "\n",
    "# Ans 4) It is basically a bitwise operation on a variable\n",
    "\n",
    "# Python program to show  shift operators\n",
    " \n",
    "a = 10\n",
    "b = -10\n",
    " \n",
    "# print bitwise right shift operator\n",
    "print(\"a >> 1 =\", a >> 1)\n",
    "print(\"b >> 1 =\", b >> 1)\n",
    " \n",
    "a = 5\n",
    "b = -10\n",
    " \n",
    "# print bitwise left shift operator\n",
    "print(\"a << 1 =\", a << 1)\n",
    "print(\"b << 1 =\", b << 1)\n",
    "\n",
    "\n"
   ]
  },
  {
   "cell_type": "code",
   "execution_count": 35,
   "id": "1e5803ee",
   "metadata": {},
   "outputs": [
    {
     "name": "stdout",
     "output_type": "stream",
     "text": [
      "10 is presnt in the list\n"
     ]
    }
   ],
   "source": [
    "# Q.5. Create a list containing int type data of length 15. Then write a code to check if 10 is\n",
    "# present in the list or not.\n",
    "\n",
    "# Ans 5)\n",
    "\n",
    "test_list = [1, 2, 3, 4, 5, 6, 7,8,9,10,11,12,13,14,15]\n",
    "\n",
    "if 10 in test_list:\n",
    "    print(\"10 is presnt in the list\")\n",
    "else:\n",
    "    print(\"10 is not presnt in the list\")"
   ]
  }
 ],
 "metadata": {
  "kernelspec": {
   "display_name": "Python 3 (ipykernel)",
   "language": "python",
   "name": "python3"
  },
  "language_info": {
   "codemirror_mode": {
    "name": "ipython",
    "version": 3
   },
   "file_extension": ".py",
   "mimetype": "text/x-python",
   "name": "python",
   "nbconvert_exporter": "python",
   "pygments_lexer": "ipython3",
   "version": "3.8.17"
  }
 },
 "nbformat": 4,
 "nbformat_minor": 5
}
