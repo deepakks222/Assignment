{
 "cells": [
  {
   "cell_type": "code",
   "execution_count": 5,
   "metadata": {},
   "outputs": [
    {
     "name": "stdout",
     "output_type": "stream",
     "text": [
      "example of built in function print:--\n",
      "10\n",
      "example of user defined function multipy_number:--\n",
      "The product is 30\n"
     ]
    }
   ],
   "source": [
    "# 1. In Python, what is the difference between a built-in function and a user-defined function? Provide an\n",
    "# example of each.\n",
    "\n",
    "# Ans 1)\n",
    "\n",
    "# Build in funtion\n",
    "#Functions that readily come with Python are called built-in functions.\n",
    "\n",
    "# Example of user defined function\n",
    "a=10\n",
    "b=20\n",
    "print(\"example of built in function print:--\")\n",
    "print(a)\n",
    "\n",
    "\n",
    "# user defined funtion\n",
    "#Functions that we define ourselves to do certain specific task are referred as user-defined functions.\n",
    "\n",
    "# Example of user defined function\n",
    "def multiply_numbers(a,b):\n",
    "   product = a * b\n",
    "   return product\n",
    "\n",
    "n1 = 5\n",
    "n2 = 6\n",
    "print(\"example of user defined function multipy_number:--\")\n",
    "print(\"The product is\", multiply_numbers(n1, n2))"
   ]
  },
  {
   "cell_type": "code",
   "execution_count": 12,
   "metadata": {},
   "outputs": [
    {
     "name": "stdout",
     "output_type": "stream",
     "text": [
      "exaple of Positional argument:- \n",
      "Case-1:\n",
      "Hi, I am Prince\n",
      "My age is  20\n",
      "\n",
      " Case-2:\n",
      "Hi, I am 20\n",
      "My age is  Prince\n",
      "\n",
      "\n",
      "exaple of keyword argument:- \n",
      "Hi, I am Prince\n",
      "My age is  20\n",
      "Hi, I am Prince\n",
      "My age is  20\n"
     ]
    }
   ],
   "source": [
    "# 2. How can you pass arguments to a function in Python? Explain the difference between positional\n",
    "# arguments and keyword arguments.\n",
    "\n",
    "# Ans 2)\n",
    "\n",
    "# Positional  arguments :-An argument is a variable, value or object passed to a function or method as input. Positional arguments are \n",
    "# arguments that need to be included in the proper position or order.\n",
    "def nameAge(name, age):\n",
    "    print(\"Hi, I am\", name)\n",
    "    print(\"My age is \", age)\n",
    "\n",
    "print(\"exaple of Positional argument:- \")\n",
    "\n",
    "# You will get correct output because argument is given in order\n",
    "print(\"Case-1:\")\n",
    "nameAge(\"Prince\", 20)\n",
    "# You will get incorrect output because argument is not in order\n",
    "print(\"\\n Case-2:\")\n",
    "nameAge(20, \"Prince\")\n",
    "\n",
    "\n",
    "\n",
    "\n",
    "\n",
    "# Keyword argument :-  is an argument passed to a function or method which is preceded by a keyword and an equals \n",
    "# sign. \n",
    "\n",
    "def nameAge(name, age):\n",
    "    print(\"Hi, I am\", name)\n",
    "    print(\"My age is \", age)\n",
    " \n",
    "print(\"\\n\\nexaple of keyword argument:- \")\n",
    "nameAge(name=\"Prince\", age=20)\n",
    " \n",
    "nameAge(age=20, name=\"Prince\")\n"
   ]
  },
  {
   "cell_type": "code",
   "execution_count": 16,
   "metadata": {},
   "outputs": [
    {
     "name": "stdout",
     "output_type": "stream",
     "text": [
      "example of multiple reutrn in a single function:-\n",
      "odd\n"
     ]
    }
   ],
   "source": [
    "# 3. What is the purpose of the return statement in a function? Can a function have multiple return\n",
    "# statements? Explain with an example.\n",
    "\n",
    "# Ans 3\n",
    "\n",
    "# A return statement ends the execution of a function, and returns control to the calling function. \n",
    "\n",
    "# the given below code is haveing more then 1 return statement in a user defined funtion. but at a time only\n",
    "# one return statement will be executed\n",
    "\n",
    "def type_of_int(i):\n",
    "    if i % 2 == 0:\n",
    "        return 'even'\n",
    "    else:\n",
    "        return 'odd'\n",
    "print(\"example of multiple reutrn in a single function:-\")\n",
    "result = type_of_int(7)\n",
    "\n",
    "print(result)"
   ]
  },
  {
   "cell_type": "code",
   "execution_count": 19,
   "metadata": {},
   "outputs": [
    {
     "name": "stdout",
     "output_type": "stream",
     "text": [
      "Square of the number using the function with 'def' keyword: 16\n",
      "Square of the number using the function with 'lambda' keyword: 16\n"
     ]
    }
   ],
   "source": [
    "# 4. What are lambda functions in Python? How are they different from regular functions? Provide an\n",
    "# example where a lambda function can be useful.\n",
    "\n",
    "# Ans 4)\n",
    "# A lambda function is an anonymous function (i.e., defined without a name) that can take any number of arguments but,\n",
    "# unlike normal functions, evaluates and returns only one expression.\n",
    "\n",
    "\n",
    "\n",
    "## creating a function that returns the square root of \n",
    "# the number passed to it\n",
    "def square(x):\n",
    "\treturn x*x\n",
    "\n",
    "# using lambda function that returns the square root of \n",
    "# the number passed \n",
    "lambda_square = lambda x: x*x\n",
    "\n",
    "# printing the square root of the number by passing the\n",
    "# random number to the above-defined square function with the def keyword\n",
    "print(\"Square of the number using the function with 'def' keyword:\", square(4))\n",
    "\n",
    "# printing the square root of the number by passing the\n",
    "# random number to the above lambda_square function with lambda keyword\n",
    "print(\"Square of the number using the function with 'lambda' keyword:\", lambda_square(4))"
   ]
  },
  {
   "cell_type": "code",
   "execution_count": 21,
   "metadata": {},
   "outputs": [
    {
     "name": "stdout",
     "output_type": "stream",
     "text": [
      "example of global scope:-\n",
      "25\n",
      "20\n",
      "\n",
      "\n",
      "example of local scope:-\n",
      "Python\n",
      "test\n",
      "Tutorialspoint\n"
     ]
    },
    {
     "ename": "NameError",
     "evalue": "name 'x' is not defined",
     "output_type": "error",
     "traceback": [
      "\u001b[0;31m---------------------------------------------------------------------------\u001b[0m",
      "\u001b[0;31mNameError\u001b[0m                                 Traceback (most recent call last)",
      "Cell \u001b[0;32mIn[21], line 35\u001b[0m\n\u001b[1;32m     33\u001b[0m    \u001b[39mprint\u001b[39m(s)\n\u001b[1;32m     34\u001b[0m func()\n\u001b[0;32m---> 35\u001b[0m \u001b[39mprint\u001b[39m(x)\n",
      "\u001b[0;31mNameError\u001b[0m: name 'x' is not defined"
     ]
    }
   ],
   "source": [
    "# 5. How does the concept of \"scope\" apply to functions in Python? Explain the difference between local\n",
    "# scope and global scope.\n",
    "\n",
    "#  Ans 5)\n",
    "\n",
    "# In programming, the scope of a name defines the area of a program in which you can unambiguously access that name, such as variables, \n",
    "# functions, objects, and so on. A name will only be visible to and accessible by the code in its scope. Several programming languages \n",
    "# take advantage of scope for avoiding name collisions and unpredictable behaviors. Most commonly, \n",
    "# you’ll distinguish two general scopes:\n",
    "\n",
    "#     Global scope: The names that you define in this scope are available to all your code.\n",
    "\n",
    "z = 25\n",
    "def func():\n",
    "   global z\n",
    "   print(z)\n",
    "   z=20\n",
    "print(\"example of global scope:-\")\n",
    "func()\n",
    "print(z)\n",
    "\n",
    "\n",
    "\n",
    "    # Local scope: The names that you define in this scope are only available or visible to the code within the scope.\n",
    "\n",
    "print(\"\\n\\nexample of local scope:-\")\n",
    "def func():\n",
    "   x = \"Python\"\n",
    "   s = \"test\"\n",
    "   print(x)\n",
    "   print(s)\n",
    "   s = \"Tutorialspoint\"\n",
    "   print(s)\n",
    "func()\n",
    "print(x)"
   ]
  },
  {
   "cell_type": "code",
   "execution_count": 25,
   "metadata": {},
   "outputs": [
    {
     "name": "stdout",
     "output_type": "stream",
     "text": [
      "[6, 15, 125]\n"
     ]
    }
   ],
   "source": [
    "# 6. How can you use the \"return\" statement in a Python function to return multiple values?\n",
    "\n",
    "#  Ans 6)\n",
    "\n",
    "# Python functions can return multiple values. These values can be stored in variables directly. A function is not restricted to return \n",
    "# a variable, it can return zero, one, two or more values.\n",
    "# This is the default property of python to return multiple values/variables which is not available in many other programming \n",
    "# languages like C++ or Java.\n",
    "\n",
    "\n",
    "def func(x):\n",
    "   result = [x + 1]\n",
    "   result.append(x * 3)\n",
    "   result.append(x ** 3)\n",
    "   return result\n",
    "\n",
    "print(func(5))"
   ]
  },
  {
   "cell_type": "code",
   "execution_count": 29,
   "metadata": {},
   "outputs": [
    {
     "name": "stdout",
     "output_type": "stream",
     "text": [
      "pass by value:-\n",
      "Before function call  100\n",
      "Inside function call  200\n",
      "After function call  100\n",
      "\n",
      "\n",
      "pass by refrence:-\n",
      "Before function call ['A']\n",
      "Inside function call ['A', 'B']\n",
      "After function call ['A', 'B']\n"
     ]
    }
   ],
   "source": [
    "# 7. What is the difference between the \"pass by value\" and \"pass by reference\" concepts when it\n",
    "# comes to function arguments in Python?\n",
    "\n",
    "# Ans 7)\n",
    "\n",
    "# The main difference between pass by value and pass by reference is that, in a pass by value, the parameter value copies to another \n",
    "# variable while, in a pass by reference, the actual parameter passes to the function. \n",
    "\n",
    "\n",
    "print(\"pass by value:-\")\n",
    "def function(int):\n",
    "  int+=100\n",
    "  print(\"Inside function call \",int)\n",
    "\n",
    "int=100\n",
    "print(\"Before function call \",int)\n",
    "function(int)\n",
    "print(\"After function call \",int)\n",
    "\n",
    "\n",
    "\n",
    "print(\"\\n\\npass by refrence:-\")\n",
    "def function(int):\n",
    "    int.append('B')\n",
    "    print(\"Inside function call\",int)\n",
    "    \n",
    "int=['A']\n",
    "print(\"Before function call\",int)\n",
    "function(int)\n",
    "print(\"After function call\",int)"
   ]
  },
  {
   "cell_type": "code",
   "execution_count": 35,
   "metadata": {},
   "outputs": [
    {
     "name": "stdout",
     "output_type": "stream",
     "text": [
      "log(a) value of 120 is : 4.787491742782046\n",
      "54.598150033144236\n",
      "0.049787068367863944\n",
      "1.0\n",
      "The value of 3 to the power 2 is : 9.0\n",
      "5.0\n"
     ]
    }
   ],
   "source": [
    "# 8. Create a function that can intake integer or decimal value and do following operations:\n",
    "# a. Logarithmic function (log x)\n",
    "# b. Exponential function (exp(x))\n",
    "# c. Power function with base 2 (2 x )\n",
    "# d. Square root\n",
    "\n",
    "# Ans 8)\n",
    "\n",
    "# a)\n",
    "import math\n",
    "# Printing the log(a) of 120\n",
    "# Throws Exception\n",
    "print (\"log(a) value of 120 is : \", end=\"\")\n",
    "print (math.log(120))\n",
    "\n",
    "\n",
    "# b)\n",
    "import math\n",
    "test_int = 4\n",
    "test_neg_int = -3\n",
    "test_float = 0.00\n",
    "\n",
    "# checking exp() values\n",
    "# with different numbers\n",
    "print (math.exp(test_int))\n",
    "print (math.exp(test_neg_int))\n",
    "print (math.exp(test_float))\n",
    "\n",
    "\n",
    "# c)\n",
    "print (\"The value of 3 to the power 2 is : \", end=\"\")\n",
    "print (math.pow(3,2))\n",
    "\n",
    "\n",
    "# d)\n",
    "print (math.sqrt(25))"
   ]
  },
  {
   "cell_type": "code",
   "execution_count": 51,
   "metadata": {},
   "outputs": [
    {
     "name": "stdout",
     "output_type": "stream",
     "text": [
      "input  :Deepak kumar sharma\n",
      "output : Deepak sharma\n"
     ]
    }
   ],
   "source": [
    "# 9. Create a function that takes a full name as an argument and returns first name and last name.\n",
    "\n",
    "# Ans 9) Below function will take the full name but it will return only the first and last name\n",
    "\n",
    "def first_last(full_name):\n",
    "    \n",
    "    li=full_name.split()\n",
    "    \n",
    "\n",
    "    return li[0]+\" \"+li[-1]\n",
    "print(\"input  :Deepak kumar sharma\")\n",
    "print(\"output :\",first_last(\"Deepak kumar sharma\"))"
   ]
  }
 ],
 "metadata": {
  "kernelspec": {
   "display_name": "Python 3",
   "language": "python",
   "name": "python3"
  },
  "language_info": {
   "codemirror_mode": {
    "name": "ipython",
    "version": 3
   },
   "file_extension": ".py",
   "mimetype": "text/x-python",
   "name": "python",
   "nbconvert_exporter": "python",
   "pygments_lexer": "ipython3",
   "version": "3.8.17"
  },
  "orig_nbformat": 4
 },
 "nbformat": 4,
 "nbformat_minor": 2
}
