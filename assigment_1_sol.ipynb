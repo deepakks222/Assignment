{
 "cells": [
  {
   "cell_type": "code",
   "execution_count": null,
   "id": "79d64f42",
   "metadata": {},
   "outputs": [],
   "source": [
    "# 1. In the below elements which of them are values or an expression? eg:- values can be integer or string and expressions will be mathematical operators.\n",
    "# *           -      expression\n",
    "# 'hello'     -      value\n",
    "# -87.8       -      value \n",
    "# -           -      expression\n",
    "# /           -      expression\n",
    "# +           -      expression \n",
    "# 6           -      value"
   ]
  },
  {
   "cell_type": "code",
   "execution_count": 1,
   "id": "0b9f0403",
   "metadata": {},
   "outputs": [],
   "source": [
    "# 2. What is the difference between string and variable?\n",
    "\n",
    "# Ans ) Variables are symbols that you can use to store data in a program. You can think of them as an empty \n",
    "# box that you fill with some data or value. Strings are data, so we can use them to fill up a variable. \n",
    "# Declaring strings as variables can make it easier for us to work with strings throughout our Python \n",
    "# programs."
   ]
  },
  {
   "cell_type": "code",
   "execution_count": 3,
   "id": "6c63a114",
   "metadata": {},
   "outputs": [],
   "source": [
    "# 3. Describe three different data types.\n",
    "\n",
    "# Ans) \n",
    "# 1)  Numeric Data type:\n",
    "# The numeric data type in Python represents the data that has a numeric value. A numeric value can be an \n",
    "# integer, a floating number, or even a complex number. These values are defined as Python int, \n",
    "# Python float, and Python complex classes in Python.\n",
    "\n",
    "#     a) Integers :- This value is represented by int class. It contains positive or negative whole numbers \n",
    "#             (without fractions or decimals). In Python, there is no limit to how long an integer value can be.\n",
    "#     b) Float :- This value is represented by the float class. It is a real number with a floating-point r\n",
    "#             epresentation. It is specified by a decimal point. Optionally, the character e or E followed \n",
    "#             by a positive or negative integer may be appended to specify scientific notation.\n",
    "#     c) Complex Numbers :- Complex number is represented by a complex class. It is specified \n",
    "#             as (real part) + (imaginary part)j. For example - 2+3j\n",
    "\n",
    "\n",
    "# 2)  String Data Type:\n",
    "# Strings in Python are arrays of bytes representing Unicode characters. A string is a collection of one or\n",
    "# more characters put in a single quote, double-quote, or triple-quote. In python there is no character \n",
    "# data type, a character is a string of length one. It is represented by str class.  \n",
    "       \n",
    "\n",
    "# 3) List Data Type :\n",
    "# Lists are just like arrays, declared in other languages which is an ordered collection of data. \n",
    "# It is very flexible as the items in a list do not need to be of the same type.        "
   ]
  },
  {
   "cell_type": "code",
   "execution_count": 4,
   "id": "d7d8f493",
   "metadata": {},
   "outputs": [],
   "source": [
    "# 4. What is an expression made up of? What do all expressions do?\n",
    "\n",
    "# Ans) An expression is a combination of operators and operands that is interpreted to produce some \n",
    "# other value. In any programming language, an expression is evaluated as per the precedence of its \n",
    "# operators."
   ]
  },
  {
   "cell_type": "code",
   "execution_count": 5,
   "id": "8c36bb8a",
   "metadata": {},
   "outputs": [],
   "source": [
    "# 5. This assignment statements, like spam = 10. What is the difference between an expression and a \n",
    "#     statement?\n",
    "\n",
    "# Ans) The expression in Python produces some value or result after being interpreted by the Python \n",
    "# interpreter. A statement in Python is not evaluated for some results."
   ]
  },
  {
   "cell_type": "code",
   "execution_count": 8,
   "id": "8b4a3029",
   "metadata": {},
   "outputs": [
    {
     "name": "stdout",
     "output_type": "stream",
     "text": [
      "22\n",
      "22\n"
     ]
    }
   ],
   "source": [
    "# 6. After running the following code, what does the variable bacon contain?\n",
    "\n",
    "# Ans)  it will contain 22 only , becaluse at second line no assignment operation is used to assign new\n",
    "#value to valribale bacon\n",
    "bacon = 22\n",
    "print(bacon)\n",
    "bacon + 1\n",
    "print(bacon)"
   ]
  },
  {
   "cell_type": "code",
   "execution_count": 11,
   "id": "4d01b56f",
   "metadata": {},
   "outputs": [
    {
     "name": "stdout",
     "output_type": "stream",
     "text": [
      "spamspamspam\n",
      "spamspamspam\n"
     ]
    }
   ],
   "source": [
    "# 7. What should the values of the following two terms be?\n",
    "\n",
    "# Ans )\n",
    "\n",
    "print('spam' + 'spamspam')\n",
    "print('spam' * 3)"
   ]
  },
  {
   "cell_type": "code",
   "execution_count": 14,
   "id": "4bfe4b77",
   "metadata": {},
   "outputs": [],
   "source": [
    "# 8. Why is eggs a valid variable name while 100 is invalid?\n",
    "    \n",
    "# Ans) eggs is not a keyword used in python so it can be used as a variable ,\n",
    "# but 100 is a number i.e why it cannot be used as a variable name\n",
    "\n"
   ]
  },
  {
   "cell_type": "code",
   "execution_count": 18,
   "id": "151d71c2",
   "metadata": {},
   "outputs": [
    {
     "name": "stdout",
     "output_type": "stream",
     "text": [
      "<class 'int'>\n",
      "<class 'float'>\n",
      "<class 'str'>\n"
     ]
    }
   ],
   "source": [
    "# 9. What three functions can be used to get the integer, floating-point number, or string version of \n",
    "# a value?\n",
    "\n",
    "# Ans )\n",
    "\n",
    "i=10\n",
    "print(type(i))\n",
    "i=10.2\n",
    "print(type(i))\n",
    "i=\"deepak\"\n",
    "print(type(i))"
   ]
  },
  {
   "cell_type": "code",
   "execution_count": 21,
   "id": "2908fde2",
   "metadata": {},
   "outputs": [
    {
     "name": "stdout",
     "output_type": "stream",
     "text": [
      "I have eaten  99  burritos.\n"
     ]
    }
   ],
   "source": [
    "# 10. Why does this expression cause an error? How can you fix it?\n",
    "# 'I have eaten ' + 99 + ' burritos.'\n",
    "\n",
    "# Ans)\n",
    "print('I have eaten ' , 99 , ' burritos.')"
   ]
  }
 ],
 "metadata": {
  "kernelspec": {
   "display_name": "Python 3 (ipykernel)",
   "language": "python",
   "name": "python3"
  },
  "language_info": {
   "codemirror_mode": {
    "name": "ipython",
    "version": 3
   },
   "file_extension": ".py",
   "mimetype": "text/x-python",
   "name": "python",
   "nbconvert_exporter": "python",
   "pygments_lexer": "ipython3",
   "version": "3.8.17"
  }
 },
 "nbformat": 4,
 "nbformat_minor": 5
}
