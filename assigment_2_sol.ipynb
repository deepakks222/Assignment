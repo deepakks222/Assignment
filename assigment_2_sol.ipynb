{
 "cells": [
  {
   "cell_type": "code",
   "execution_count": null,
   "id": "79d64f42",
   "metadata": {},
   "outputs": [],
   "source": [
    "#1.What are the two values of the Boolean data type? How do you write them?\n",
    "\n",
    "# Ans) Boolean data type only contains : \"0\" or \"1\".\n"
   ]
  },
  {
   "cell_type": "code",
   "execution_count": 10,
   "id": "5392b328",
   "metadata": {},
   "outputs": [
    {
     "name": "stdout",
     "output_type": "stream",
     "text": [
      "True\n",
      "False\n",
      "False\n"
     ]
    }
   ],
   "source": [
    "# 2. What are the three different types of Boolean operators?\n",
    "\n",
    "# Ans )\n",
    "# And operator\n",
    "print(True and True)\n",
    "\n",
    "# or operator\n",
    "print(True and False)\n",
    "\n",
    "# or operator\n",
    "print( not True )"
   ]
  },
  {
   "cell_type": "code",
   "execution_count": 11,
   "id": "f58c39f7",
   "metadata": {},
   "outputs": [],
   "source": [
    "# 3. Make a list of each Boolean operator's truth tables (i.e. every possible combination of Boolean values \n",
    "# for the operator and what it evaluate ).\n",
    "    \n",
    "# a) And\n",
    "\n",
    "#     input_a   input_b    output\n",
    "#         0       0           0\n",
    "#         0       1           0\n",
    "#         1       0           0\n",
    "#         1       1           1\n",
    "\n",
    "\n",
    "# b) or\n",
    "\n",
    "#     input_a   input_b    output\n",
    "#         0       0           0\n",
    "#         0       1           1\n",
    "#         1       0           1\n",
    "#         1       1           1\n",
    "\n",
    "\n",
    "# c) Not\n",
    "\n",
    "#     input_a   output\n",
    "#         0       1          \n",
    "#         1       0          \n",
    "        "
   ]
  },
  {
   "cell_type": "code",
   "execution_count": 16,
   "id": "d3a41a5f",
   "metadata": {},
   "outputs": [
    {
     "name": "stdout",
     "output_type": "stream",
     "text": [
      "False\n",
      "False\n",
      "True\n",
      "False\n",
      "False\n",
      "True\n"
     ]
    }
   ],
   "source": [
    "# 4. What are the values of the following expressions?\n",
    "\n",
    "# Ans )\n",
    "\n",
    "print((5 > 4) and (3 == 5))\n",
    "print(not (5 > 4))\n",
    "print((5 > 4) or (3 == 5))\n",
    "print(not ((5 > 4) or (3 == 5)))\n",
    "print((True and True) and (True == False))\n",
    "print((not False) or (not True))"
   ]
  },
  {
   "cell_type": "code",
   "execution_count": 17,
   "id": "1d35150b",
   "metadata": {},
   "outputs": [],
   "source": [
    "# 5. What are the six comparison operators?\n",
    "\n",
    "# Ans )\n",
    "    # Python Less Than (<) Operator\n",
    "    # Python Greater Than (>) Operator\n",
    "    # Less Than or Equal To (<=) Operator\n",
    "    # Equal To or Greater Than – Python (>=) Operator\n",
    "    # Python Equal To (==) Operator\n",
    "    # Python Not Equal Operator (!=)"
   ]
  },
  {
   "cell_type": "code",
   "execution_count": 18,
   "id": "e6f87954",
   "metadata": {},
   "outputs": [],
   "source": [
    "# 6. How do you tell the difference between the equal to and assignment operators?Describe a condition and when you would use one.\n",
    "\n",
    "# Ans) \n",
    "# In mathematics and algebra, = is an equal to operator. In programming = is an assignment operator, \n",
    "# which means that it assigns a value to a variable. It may look like the assignment operator works the \n",
    "# same way as algebra's equal to operator, but that's not the case."
   ]
  },
  {
   "cell_type": "code",
   "execution_count": 22,
   "id": "08f3a1dc",
   "metadata": {},
   "outputs": [
    {
     "name": "stdout",
     "output_type": "stream",
     "text": [
      "ham\n",
      "spam\n",
      "spam\n"
     ]
    }
   ],
   "source": [
    "# 7. Identify the three blocks in this code:\n",
    "spam = 0\n",
    "if spam == 10:\n",
    "    print('eggs')\n",
    "if spam > 5:\n",
    "    print('bacon')\n",
    "else:\n",
    "    print('ham')\n",
    "    print('spam')\n",
    "    print('spam')"
   ]
  },
  {
   "cell_type": "code",
   "execution_count": 28,
   "id": "7f6d7ad9",
   "metadata": {},
   "outputs": [
    {
     "name": "stdout",
     "output_type": "stream",
     "text": [
      "greetings\n"
     ]
    }
   ],
   "source": [
    "# 8. Write code that prints Hello if 1 is stored in spam, prints Howdy if 2 is stored in spam, and \n",
    "# prints Greetings! if anything else is stored in spam.\n",
    "\n",
    "\n",
    "spam=10\n",
    "if spam==1:\n",
    "    print(\"Hello\")\n",
    "elif spam==2:\n",
    "    print(\"howdy\")\n",
    "else:\n",
    "    print(\"greetings\")"
   ]
  },
  {
   "cell_type": "code",
   "execution_count": 29,
   "id": "d793fcda",
   "metadata": {},
   "outputs": [],
   "source": [
    "# 9.If your programme is stuck in an endless loop, what keys you’ll press?\n",
    "\n",
    "# Ans) You can stop an infinite loop with CTRL + C . You can generate an infinite loop intentionally with \n",
    "#while True"
   ]
  },
  {
   "cell_type": "code",
   "execution_count": 30,
   "id": "f1d0e047",
   "metadata": {},
   "outputs": [],
   "source": [
    "# 10. How can you tell the difference between break and continue?\n",
    "\n",
    "# Ans) The main difference between both the statements is that when break keyword comes, it terminates the\n",
    "# execution of the current loop and passes the control over the next loop or main body, whereas when \n",
    "# continue keyword is encountered, it skips the current iteration and executes the very next iteration in \n",
    "# the loop.\n"
   ]
  },
  {
   "cell_type": "code",
   "execution_count": 35,
   "id": "84dbca15",
   "metadata": {},
   "outputs": [
    {
     "name": "stdout",
     "output_type": "stream",
     "text": [
      "range(0, 10)\n",
      "range(0, 10)\n",
      "range(0, 10)\n"
     ]
    }
   ],
   "source": [
    "# 11. In a for loop, what is the difference between range(10), range(0, 10), and range(0, 10, 1)?\n",
    "\n",
    "# Ans)   all are equal in for loop\n",
    "print(range(10))\n",
    "print(range(0,10))\n",
    "print(range(0,10,1))\n",
    "\n"
   ]
  },
  {
   "cell_type": "code",
   "execution_count": 39,
   "id": "2ca4f140",
   "metadata": {},
   "outputs": [
    {
     "name": "stdout",
     "output_type": "stream",
     "text": [
      "\n",
      " inside for loop\n",
      "1\n",
      "2\n",
      "3\n",
      "4\n",
      "5\n",
      "6\n",
      "7\n",
      "8\n",
      "9\n",
      "10\n",
      "\n",
      " inside while loop\n",
      "1\n",
      "2\n",
      "3\n",
      "4\n",
      "5\n",
      "6\n",
      "7\n",
      "8\n",
      "9\n",
      "10\n"
     ]
    }
   ],
   "source": [
    "# 12. Write a short program that prints the numbers 1 to 10 using a for loop. Then write an equivalent program that prints the numbers 1 to 10 using a while loop.\n",
    "\n",
    "#Ans )\n",
    "print(\"\\n inside for loop\")\n",
    "for i in range(1,11):\n",
    "    print(i)\n",
    "\n",
    "ii=1\n",
    "\n",
    "print(\"\\n inside while loop\")\n",
    "while (ii<11):\n",
    "    print(ii)\n",
    "    ii+=1\n",
    "\n"
   ]
  }
 ],
 "metadata": {
  "kernelspec": {
   "display_name": "Python 3 (ipykernel)",
   "language": "python",
   "name": "python3"
  },
  "language_info": {
   "codemirror_mode": {
    "name": "ipython",
    "version": 3
   },
   "file_extension": ".py",
   "mimetype": "text/x-python",
   "name": "python",
   "nbconvert_exporter": "python",
   "pygments_lexer": "ipython3",
   "version": "3.8.17"
  }
 },
 "nbformat": 4,
 "nbformat_minor": 5
}
