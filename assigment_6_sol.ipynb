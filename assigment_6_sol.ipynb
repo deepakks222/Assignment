{
 "cells": [
  {
   "cell_type": "code",
   "execution_count": 2,
   "id": "79d64f42",
   "metadata": {},
   "outputs": [],
   "source": [
    "# Assignment 6"
   ]
  },
  {
   "cell_type": "code",
   "execution_count": 73,
   "id": "51fb922c",
   "metadata": {},
   "outputs": [
    {
     "name": "stdout",
     "output_type": "stream",
     "text": [
      "['False', 'None', 'True', 'and', 'as', 'assert', 'async', 'await', 'break', 'class', 'continue', 'def', 'del', 'elif', 'else', 'except', 'finally', 'for', 'from', 'global', 'if', 'import', 'in', 'is', 'lambda', 'nonlocal', 'not', 'or', 'pass', 'raise', 'return', 'try', 'while', 'with', 'yield']\n"
     ]
    }
   ],
   "source": [
    "#   Q.1. What are keywords in python? Using the keyword library, print all the python keywords.\n",
    "\n",
    "#Ans) there are 35 keywords which are reserve for python. it cannot be used as variable or function name.\n",
    "import keyword\n",
    "print(keyword. kwlist)"
   ]
  },
  {
   "cell_type": "code",
   "execution_count": 4,
   "id": "dc833804",
   "metadata": {},
   "outputs": [],
   "source": [
    "#  Q.2. What are the rules to create variables in python?\n",
    "\n",
    "Ans) variable cannot be started with numbers (ex- 10result , 55_sum), it must start with alphabats like result55.\n"
   ]
  },
  {
   "cell_type": "code",
   "execution_count": null,
   "id": "9b0b8f1e",
   "metadata": {},
   "outputs": [],
   "source": [
    "# Q.3. What are the standards and conventions followed for the nomenclature of variables in\n",
    "# python to improve code readability and maintainability?\n",
    "\n",
    "# Ans) variable must have the name for which it has been created like : if a variable to be used to \n",
    "#     store the result of 2 inputs number then it name must be like this: \"result\""
   ]
  },
  {
   "cell_type": "code",
   "execution_count": null,
   "id": "1c27c383",
   "metadata": {},
   "outputs": [],
   "source": [
    "# Q.4. What will happen if a keyword is used as a variable name?\n",
    "\n",
    "# Ans) It will give error while executing."
   ]
  },
  {
   "cell_type": "code",
   "execution_count": null,
   "id": "7ec47301",
   "metadata": {},
   "outputs": [],
   "source": [
    "# Q.5. For what purpose def keyword is used?\n",
    "\n",
    "# Ans) It is used to define a function in python."
   ]
  },
  {
   "cell_type": "code",
   "execution_count": null,
   "id": "f8e57332",
   "metadata": {},
   "outputs": [],
   "source": [
    "# Q.6. What is the operation of this special character ‘\\’?\n",
    "\n",
    "# Ans) It is a special caracter used in the python and many other language like C,C++,java etc for example:\n",
    "#     \"\\n\" means new line\n",
    "#     \"\\t\" means tab\n"
   ]
  },
  {
   "cell_type": "code",
   "execution_count": 70,
   "id": "d105830e",
   "metadata": {},
   "outputs": [
    {
     "name": "stdout",
     "output_type": "stream",
     "text": [
      "Homogeneous list:\n",
      "[1, 2, 3, 4, 10]\n",
      "['deepak', 'varun', 'pawan']\n",
      "\n",
      "\n",
      "\n",
      "Heterogeneous set:\n",
      "{'cherry', 'apple', 12}\n",
      "\n",
      "\n",
      "\n",
      "Homogeneous tuple:\n",
      "('apple', 'banana', 'cherry')\n",
      "\n",
      "\n",
      "\n"
     ]
    }
   ],
   "source": [
    "#Q.7. Give an example of the following conditions:\n",
    "\n",
    "#(i)Homogeneous list\n",
    "print(\"Homogeneous list:\")\n",
    "test_list=[1,2,3,4,10]\n",
    "print(test_list)\n",
    "\n",
    "test_list1=[\"deepak\",\"varun\",\"pawan\"]\n",
    "print(test_list1)\n",
    "print(\"\\n\\n\")\n",
    "\n",
    "\n",
    "#(ii)Heterogeneous set\n",
    "print(\"Heterogeneous set:\")\n",
    "thisset = {\"apple\", 12, \"cherry\"}\n",
    "print(thisset)\n",
    "print(\"\\n\\n\")\n",
    "\n",
    "\n",
    "#(iii)Homogeneous tuple\n",
    "print(\"Homogeneous tuple:\")\n",
    "thistuple = (\"apple\", \"banana\", \"cherry\")\n",
    "print(thistuple)\n",
    "print(\"\\n\\n\")\n"
   ]
  },
  {
   "cell_type": "code",
   "execution_count": 10,
   "id": "d1798f05",
   "metadata": {},
   "outputs": [
    {
     "name": "stdout",
     "output_type": "stream",
     "text": [
      "['delhi', 'mumbai', 'kilkatta']\n",
      "['delhi', 'mumbai', 'kilkatta', 'chennai']\n",
      "('sunday', 'monday')\n",
      "('sunday', 'monday', 'saturday')\n"
     ]
    }
   ],
   "source": [
    "# Q.8. Explain the mutable and immutable data types with proper explanation & examples.\n",
    "\n",
    "# Ans 8)\n",
    "# In programming, you have an immutable object if you can’t change the object’s state after you’ve created it. In contrast, a mutable object allows you to modify its internal state after creation. In short, whether you’re able to change an object’s state or contained data is what defines if that object is mutable or immutable.\n",
    "\n",
    "\n",
    "\n",
    "# Objects of built-in type that are mutable are:\n",
    "\n",
    "#     Lists\n",
    "#     Sets\n",
    "#     Dictionaries\n",
    "#     User-Defined Classes (It purely depends upon the user to define the characteristics) \n",
    "\n",
    "\n",
    "\n",
    "          \n",
    "cities=[\"delhi\",\"mumbai\",\"kilkatta\"]\n",
    "print(cities)\n",
    "cities.append(\"chennai\")\n",
    "print(cities)\n",
    "            \n",
    "\n",
    "\n",
    "\n",
    "\n",
    "\n",
    "# Objects of built-in type that are immutable are:\n",
    "\n",
    "#     Numbers (Integer, Rational, Float, Decimal, Complex & Booleans)\n",
    "#     Strings\n",
    "#     Tuples\n",
    "#     Frozen Sets\n",
    "#     User-Defined Classes (It purely depends upon the user to define the characteristics)\n",
    "weekdays = \"sunday\", \"monday\"\n",
    "print(weekdays)\n",
    "weekdays  +=  \"saturday\",\n",
    "print(weekdays)"
   ]
  },
  {
   "cell_type": "code",
   "execution_count": 47,
   "id": "2cd522b2",
   "metadata": {},
   "outputs": [
    {
     "name": "stdout",
     "output_type": "stream",
     "text": [
      "please inter the level :6\n",
      "      *\n",
      "     ***\n",
      "    *****\n",
      "   *******\n",
      "  *********\n",
      " ***********\n"
     ]
    }
   ],
   "source": [
    "#Q.9. Write a code to create the given structure using only for loop.\n",
    "#    *\n",
    "#   ***\n",
    "#  *****\n",
    "# *******\n",
    "#*********\n",
    "\n",
    "level=int(input(\"please inter the level :\"))\n",
    "#level=5\n",
    "\n",
    "innerloop=0;\n",
    "\n",
    "for i in range(level):\n",
    "    \n",
    "  \n",
    "    for j in range(level-i):\n",
    "        print(end=\" \")\n",
    "    \n",
    "    \n",
    "    p=0\n",
    "    while(p<=innerloop):\n",
    "        print(\"*\",end=\"\")\n",
    "        p=p+1\n",
    "    print()\n",
    "    innerloop+=2\n",
    "    "
   ]
  },
  {
   "cell_type": "code",
   "execution_count": 60,
   "id": "ffe96746",
   "metadata": {},
   "outputs": [
    {
     "name": "stdout",
     "output_type": "stream",
     "text": [
      "please inter the level :5\n",
      "|||||||||\n",
      " |||||||\n",
      "  |||||\n",
      "   |||\n",
      "    |\n"
     ]
    }
   ],
   "source": [
    "#Q.10. Write a code to create the given structure using while loop.\n",
    "#|||||||||\n",
    "# |||||||\n",
    "#  |||||\n",
    "#   |||\n",
    "#    |    \n",
    "    \n",
    "level1=int(input(\"please inter the level :\"))\n",
    "#level1=5\n",
    "\n",
    "i=0\n",
    "while(i<level1):\n",
    "    \n",
    "    m=0\n",
    "    while(m<i):\n",
    "        m=m+1\n",
    "        print(\" \",end=\"\")    \n",
    "    \n",
    "    j=0\n",
    "    while(j<(level1*2-1)-(i*2)):\n",
    "        print(\"|\",end=\"\")\n",
    "        j=j+1    \n",
    "    \n",
    "    print(\"\")\n",
    "    i=i+1   \n"
   ]
  },
  {
   "cell_type": "code",
   "execution_count": 61,
   "id": "0dd9e23e",
   "metadata": {},
   "outputs": [
    {
     "name": "stdout",
     "output_type": "stream",
     "text": [
      "\n"
     ]
    }
   ],
   "source": []
  }
 ],
 "metadata": {
  "kernelspec": {
   "display_name": "Python 3 (ipykernel)",
   "language": "python",
   "name": "python3"
  },
  "language_info": {
   "codemirror_mode": {
    "name": "ipython",
    "version": 3
   },
   "file_extension": ".py",
   "mimetype": "text/x-python",
   "name": "python",
   "nbconvert_exporter": "python",
   "pygments_lexer": "ipython3",
   "version": "3.8.17"
  }
 },
 "nbformat": 4,
 "nbformat_minor": 5
}
